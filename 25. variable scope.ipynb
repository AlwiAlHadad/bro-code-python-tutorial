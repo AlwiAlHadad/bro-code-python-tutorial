{
 "cells": [
  {
   "cell_type": "code",
   "execution_count": 7,
   "metadata": {},
   "outputs": [
    {
     "name": "stdout",
     "output_type": "stream",
     "text": [
      "chandler\n",
      "joey\n"
     ]
    }
   ],
   "source": [
    "# scope = batsana variabel tersebut di kenali, seperti jika dalam fungsi maka variabel tersebut hanay dikenali di fungsi tsb dan di sebut lokal. jika di declare global baru dikenali dimanapun\n",
    "\n",
    "name = 'chandler' # global scope (diluar dan dalan fungsi akan ada)\n",
    "\n",
    "def display_name():\n",
    "    name = 'joey' #local scope (cuma ada di fungsi tersebut)\n",
    "    print(name)\n",
    "\n",
    "\n",
    "print(name)\n",
    "display_name()"
   ]
  },
  {
   "cell_type": "code",
   "execution_count": 8,
   "metadata": {},
   "outputs": [
    {
     "name": "stdout",
     "output_type": "stream",
     "text": [
      "chandler\n",
      "chandler\n"
     ]
    }
   ],
   "source": [
    "name = 'chandler' # global scope (diluar dan dalan fungsi akan ada)\n",
    "\n",
    "def display_name():\n",
    "    ##name = 'joey' #local scope (cuma ada di fungsi tersebut)\n",
    "    print(name)\n",
    "\n",
    "\n",
    "print(name)\n",
    "display_name()\n",
    "\n",
    "\n",
    "### urutan variabel yg digunakan ###\n",
    "# L = local\n",
    "# E = enclosing (variable yg dihasilkan dari hasil nested function)\n",
    "# G = global\n",
    "# B = built-in"
   ]
  }
 ],
 "metadata": {
  "kernelspec": {
   "display_name": "Python 3",
   "language": "python",
   "name": "python3"
  },
  "language_info": {
   "codemirror_mode": {
    "name": "ipython",
    "version": 3
   },
   "file_extension": ".py",
   "mimetype": "text/x-python",
   "name": "python",
   "nbconvert_exporter": "python",
   "pygments_lexer": "ipython3",
   "version": "3.9.13"
  },
  "orig_nbformat": 4
 },
 "nbformat": 4,
 "nbformat_minor": 2
}
