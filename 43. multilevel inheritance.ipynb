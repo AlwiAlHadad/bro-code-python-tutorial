{
 "cells": [
  {
   "cell_type": "code",
   "execution_count": 2,
   "metadata": {},
   "outputs": [],
   "source": [
    "# parent class\n",
    "class Organism:\n",
    "\n",
    "    alive = True\n",
    "\n",
    "# child class\n",
    "class Animal(Organism):\n",
    "\n",
    "    def eat(self):\n",
    "        print('This animal is eating')\n",
    "\n",
    "# inherite from child class (like grand child)\n",
    "class Dog(Animal):\n",
    "\n",
    "    def bark(self):\n",
    "        print('This dog is barking')\n",
    "\n"
   ]
  },
  {
   "cell_type": "code",
   "execution_count": 6,
   "metadata": {},
   "outputs": [
    {
     "name": "stdout",
     "output_type": "stream",
     "text": [
      "True\n",
      "This animal is eating\n",
      "This dog is barking\n"
     ]
    }
   ],
   "source": [
    "dog = Dog()\n",
    "\n",
    "print(dog.alive)\n",
    "dog.eat()\n",
    "dog.bark()"
   ]
  }
 ],
 "metadata": {
  "kernelspec": {
   "display_name": "Python 3",
   "language": "python",
   "name": "python3"
  },
  "language_info": {
   "codemirror_mode": {
    "name": "ipython",
    "version": 3
   },
   "file_extension": ".py",
   "mimetype": "text/x-python",
   "name": "python",
   "nbconvert_exporter": "python",
   "pygments_lexer": "ipython3",
   "version": "3.9.13"
  },
  "orig_nbformat": 4
 },
 "nbformat": 4,
 "nbformat_minor": 2
}
