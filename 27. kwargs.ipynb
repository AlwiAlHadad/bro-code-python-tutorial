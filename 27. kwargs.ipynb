{
 "cells": [
  {
   "cell_type": "code",
   "execution_count": 8,
   "metadata": {},
   "outputs": [
    {
     "name": "stdout",
     "output_type": "stream",
     "text": [
      "Hello chandler bing\n"
     ]
    }
   ],
   "source": [
    "# **kwargs = parameternya di kumpulin dijadikan DICT. berguna agar fungsi dapat menerima berbagai jumlah argument\n",
    "\n",
    "# kwargs (keyword arguments)\n",
    "\n",
    "def hello(**kwargs): # kwargs bisa di ganti dengan nama apapun yang penting ada * di depannya\n",
    "    sum = 0\n",
    "    print(f'Hello {kwargs[\"first\"]} {kwargs[\"last\"]}')\n",
    "\n",
    "\n",
    "hello(first='chandler', middle='raymond',last='bing')\n",
    "\n"
   ]
  },
  {
   "cell_type": "code",
   "execution_count": 11,
   "metadata": {},
   "outputs": [
    {
     "name": "stdout",
     "output_type": "stream",
     "text": [
      "Hello chandler raymond bing ,B.Sc "
     ]
    }
   ],
   "source": [
    "def hello(**kwargs):\n",
    "    #print(f'Hello {kwargs[\"first\"]} {kwargs[\"last\"]}')\n",
    "    print('Hello', end=' ')\n",
    "    for key,value in kwargs.items():\n",
    "        print(value, end=' ')\n",
    "\n",
    "\n",
    "hello(first='chandler', middle='raymond',last='bing', title = ',B.Sc')"
   ]
  }
 ],
 "metadata": {
  "kernelspec": {
   "display_name": "Python 3",
   "language": "python",
   "name": "python3"
  },
  "language_info": {
   "codemirror_mode": {
    "name": "ipython",
    "version": 3
   },
   "file_extension": ".py",
   "mimetype": "text/x-python",
   "name": "python",
   "nbconvert_exporter": "python",
   "pygments_lexer": "ipython3",
   "version": "3.9.13"
  },
  "orig_nbformat": 4
 },
 "nbformat": 4,
 "nbformat_minor": 2
}
