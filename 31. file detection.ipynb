{
 "cells": [
  {
   "cell_type": "code",
   "execution_count": 9,
   "metadata": {},
   "outputs": [
    {
     "name": "stdout",
     "output_type": "stream",
     "text": [
      "That location exist\n",
      "That is a file\n"
     ]
    }
   ],
   "source": [
    "import os\n",
    "\n",
    "path = 'test file\\\\test.txt'\n",
    "\n",
    "if os.path.exists(path):\n",
    "    print('That location exist')\n",
    "    if os.path.isfile(path):\n",
    "        print('That is a file')\n",
    "    elif os.path.isdir(path): # dir = folder\n",
    "        print('That is directory')\n",
    "else:\n",
    "    print(\"That location doen't exist\")"
   ]
  },
  {
   "cell_type": "code",
   "execution_count": 10,
   "metadata": {},
   "outputs": [
    {
     "name": "stdout",
     "output_type": "stream",
     "text": [
      "That location exist\n",
      "That is directory\n"
     ]
    }
   ],
   "source": [
    "path = 'test file\\\\test'\n",
    "\n",
    "if os.path.exists(path):\n",
    "    print('That location exist')\n",
    "    if os.path.isfile(path):\n",
    "        print('That is a file')\n",
    "    elif os.path.isdir(path): # dir = folder\n",
    "        print('That is directory')\n",
    "else:\n",
    "    print(\"That location doen't exist\")"
   ]
  }
 ],
 "metadata": {
  "kernelspec": {
   "display_name": "Python 3",
   "language": "python",
   "name": "python3"
  },
  "language_info": {
   "codemirror_mode": {
    "name": "ipython",
    "version": 3
   },
   "file_extension": ".py",
   "mimetype": "text/x-python",
   "name": "python",
   "nbconvert_exporter": "python",
   "pygments_lexer": "ipython3",
   "version": "3.9.13"
  },
  "orig_nbformat": 4
 },
 "nbformat": 4,
 "nbformat_minor": 2
}
