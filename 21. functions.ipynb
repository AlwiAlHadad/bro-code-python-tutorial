{
 "cells": [
  {
   "cell_type": "code",
   "execution_count": 15,
   "metadata": {},
   "outputs": [
    {
     "name": "stdout",
     "output_type": "stream",
     "text": [
      "Hello Alwi\n",
      "Have a nice day!\n",
      "Hello tidak ada nama\n",
      "Have a nice day!\n",
      "Hello tidak ada nama\n",
      "Have a nice day!\n"
     ]
    }
   ],
   "source": [
    "# function = block of code dimana akan berjalan saat dipanggil saja\n",
    "\n",
    "def hello(name='tidak ada nama', last_name = ''): # 'name' adalah argument\n",
    "    print('Hello ' + name + last_name)\n",
    "    print('Have a nice day!')\n",
    "\n",
    "\n",
    "hello('Alwi')\n",
    "hello()\n",
    "\n",
    "hello()"
   ]
  }
 ],
 "metadata": {
  "kernelspec": {
   "display_name": "Python 3",
   "language": "python",
   "name": "python3"
  },
  "language_info": {
   "codemirror_mode": {
    "name": "ipython",
    "version": 3
   },
   "file_extension": ".py",
   "mimetype": "text/x-python",
   "name": "python",
   "nbconvert_exporter": "python",
   "pygments_lexer": "ipython3",
   "version": "3.11.5"
  },
  "orig_nbformat": 4
 },
 "nbformat": 4,
 "nbformat_minor": 2
}
