{
 "cells": [
  {
   "cell_type": "code",
   "execution_count": 6,
   "metadata": {},
   "outputs": [
    {
     "name": "stdout",
     "output_type": "stream",
     "text": [
      "alwi\n",
      "bro\n",
      "dono\n",
      "21\n",
      "bro is here\n"
     ]
    }
   ],
   "source": [
    "# tuple = kumpulan element yang gak bisa di ubah urutannya\n",
    "\n",
    "student = ('alwi', 'bro', 'dono', 21)\n",
    "\n",
    "student.count(21)\n",
    "student.index('dono')\n",
    "\n",
    "\n",
    "for x in student:\n",
    "    print(x)\n",
    "\n",
    "if \"bro\" in student:\n",
    "    print(\"bro is here\")"
   ]
  }
 ],
 "metadata": {
  "kernelspec": {
   "display_name": "Python 3",
   "language": "python",
   "name": "python3"
  },
  "language_info": {
   "codemirror_mode": {
    "name": "ipython",
    "version": 3
   },
   "file_extension": ".py",
   "mimetype": "text/x-python",
   "name": "python",
   "nbconvert_exporter": "python",
   "pygments_lexer": "ipython3",
   "version": "3.11.5"
  },
  "orig_nbformat": 4
 },
 "nbformat": 4,
 "nbformat_minor": 2
}
