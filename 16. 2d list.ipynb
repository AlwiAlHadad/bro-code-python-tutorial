{
 "cells": [
  {
   "cell_type": "code",
   "execution_count": 6,
   "metadata": {},
   "outputs": [
    {
     "name": "stdout",
     "output_type": "stream",
     "text": [
      "[['coffe', 'soda', 'tea'], ['pizza', 'burger', 'spaghetti'], ['cake', 'souffle']]\n",
      "['coffe', 'soda', 'tea']\n",
      "souffle\n"
     ]
    }
   ],
   "source": [
    "drinks = ['coffe', 'soda', 'tea']\n",
    "dinner = ['pizza', 'burger', 'spaghetti']\n",
    "dessert = ['cake', 'souffle']\n",
    "\n",
    "food = [drinks, dinner, dessert]\n",
    "\n",
    "print(food)\n",
    "print(food[0]) # pilih list yg ada di dalam list\n",
    "print(food[2][1]) # pilih element di dalam list yang sudah dipili di atas"
   ]
  }
 ],
 "metadata": {
  "kernelspec": {
   "display_name": "Python 3",
   "language": "python",
   "name": "python3"
  },
  "language_info": {
   "codemirror_mode": {
    "name": "ipython",
    "version": 3
   },
   "file_extension": ".py",
   "mimetype": "text/x-python",
   "name": "python",
   "nbconvert_exporter": "python",
   "pygments_lexer": "ipython3",
   "version": "3.11.5"
  },
  "orig_nbformat": 4
 },
 "nbformat": 4,
 "nbformat_minor": 2
}
