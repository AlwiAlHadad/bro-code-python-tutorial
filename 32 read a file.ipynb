{
 "cells": [
  {
   "cell_type": "code",
   "execution_count": 7,
   "metadata": {},
   "outputs": [
    {
     "name": "stdout",
     "output_type": "stream",
     "text": [
      "OMG you can read this\n",
      "\n",
      "Have a nice day!\n",
      "True\n"
     ]
    }
   ],
   "source": [
    "import os\n",
    "\n",
    "path = 'test file\\\\test.txt'\n",
    "\n",
    "try:\n",
    "    with open(path) as file: # otomatis buka , bca, dan langsung tutup kembali filenya\n",
    "        print(file.read())\n",
    "except FileNotFoundError:\n",
    "    print('That file was not found')\n",
    "\n",
    "\n",
    "print(file.closed)"
   ]
  },
  {
   "cell_type": "code",
   "execution_count": 9,
   "metadata": {},
   "outputs": [
    {
     "name": "stdout",
     "output_type": "stream",
     "text": [
      "That file was not found\n"
     ]
    }
   ],
   "source": [
    "path = 'test file\\\\test.tt'\n",
    "\n",
    "try:\n",
    "    with open(path) as file: # otomatis buka , bca, dan langsung tutup kembali filenya\n",
    "        print(file.read())\n",
    "except FileNotFoundError:\n",
    "    print('That file was not found')"
   ]
  }
 ],
 "metadata": {
  "kernelspec": {
   "display_name": "Python 3",
   "language": "python",
   "name": "python3"
  },
  "language_info": {
   "codemirror_mode": {
    "name": "ipython",
    "version": 3
   },
   "file_extension": ".py",
   "mimetype": "text/x-python",
   "name": "python",
   "nbconvert_exporter": "python",
   "pygments_lexer": "ipython3",
   "version": "3.9.13"
  },
  "orig_nbformat": 4
 },
 "nbformat": 4,
 "nbformat_minor": 2
}
