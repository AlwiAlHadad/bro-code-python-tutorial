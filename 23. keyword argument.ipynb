{
 "cells": [
  {
   "cell_type": "code",
   "execution_count": 3,
   "metadata": {},
   "outputs": [
    {
     "name": "stdout",
     "output_type": "stream",
     "text": [
      "Hello hadad al alwi\n"
     ]
    }
   ],
   "source": [
    "# keyword argument = menggunakan key dari argument supaya urutan dari argument atau di fungsi tidak penting\n",
    "\n",
    "def hello(first,middle,last):\n",
    "    print(f'Hello {first} {middle} {last}')\n",
    "\n",
    "\n",
    "hello(last='alwi', first='hadad', middle='al')"
   ]
  }
 ],
 "metadata": {
  "kernelspec": {
   "display_name": "Python 3",
   "language": "python",
   "name": "python3"
  },
  "language_info": {
   "codemirror_mode": {
    "name": "ipython",
    "version": 3
   },
   "file_extension": ".py",
   "mimetype": "text/x-python",
   "name": "python",
   "nbconvert_exporter": "python",
   "pygments_lexer": "ipython3",
   "version": "3.11.5"
  },
  "orig_nbformat": 4
 },
 "nbformat": 4,
 "nbformat_minor": 2
}
