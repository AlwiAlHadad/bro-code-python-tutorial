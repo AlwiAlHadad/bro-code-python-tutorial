{
 "cells": [
  {
   "cell_type": "code",
   "execution_count": 1,
   "metadata": {},
   "outputs": [],
   "source": [
    "# multiple inheritance = jika child class nya berasal lebih dari 1 parent\n",
    "\n",
    "# parent class 1\n",
    "class Prey:\n",
    "\n",
    "    def flee(self):\n",
    "        print('This animal flees')\n",
    "\n",
    "# parent class 2\n",
    "class Predator:\n",
    "\n",
    "    def hunt(self):\n",
    "        print('This animal is hunting')\n",
    "\n",
    "\n",
    "# child class\n",
    "class Rabbit(Prey):\n",
    "    pass\n",
    "\n",
    "class Hawk(Predator):\n",
    "    pass\n",
    "\n",
    "# child class with multiple parent classes\n",
    "class Fish(Prey, Predator):\n",
    "    pass\n"
   ]
  },
  {
   "cell_type": "code",
   "execution_count": 3,
   "metadata": {},
   "outputs": [
    {
     "name": "stdout",
     "output_type": "stream",
     "text": [
      "This animal flees\n",
      "This animal is hunting\n",
      "This animal is hunting\n",
      "This animal flees\n"
     ]
    }
   ],
   "source": [
    "rabbit = Rabbit()\n",
    "hawk = Hawk()\n",
    "fish = Fish()\n",
    "\n",
    "rabbit.flee()\n",
    "hawk.hunt()\n",
    "fish.hunt()\n",
    "fish.flee()"
   ]
  }
 ],
 "metadata": {
  "kernelspec": {
   "display_name": "Python 3",
   "language": "python",
   "name": "python3"
  },
  "language_info": {
   "codemirror_mode": {
    "name": "ipython",
    "version": 3
   },
   "file_extension": ".py",
   "mimetype": "text/x-python",
   "name": "python",
   "nbconvert_exporter": "python",
   "pygments_lexer": "ipython3",
   "version": "3.9.13"
  },
  "orig_nbformat": 4
 },
 "nbformat": 4,
 "nbformat_minor": 2
}
