{
 "cells": [
  {
   "cell_type": "code",
   "execution_count": 13,
   "metadata": {},
   "outputs": [
    {
     "name": "stdout",
     "output_type": "stream",
     "text": [
      "burger\n",
      "chicken\n",
      "indomie\n",
      "pizza\n",
      "spaghetti\n"
     ]
    }
   ],
   "source": [
    "foods = ['pizza', 'spaghetti', 'burger', 'steak', 'chicken']\n",
    "\n",
    "# selalu mulai dari 0\n",
    "\n",
    "#print(foods[1])\n",
    "\n",
    "foods.append('donut')\n",
    "foods.remove('steak')\n",
    "foods.pop()\n",
    "foods.insert(0, 'indomie')\n",
    "foods.sort()\n",
    "# foods.clear()\n",
    "\n",
    "for x in foods:\n",
    "    print(x)"
   ]
  }
 ],
 "metadata": {
  "kernelspec": {
   "display_name": "Python 3",
   "language": "python",
   "name": "python3"
  },
  "language_info": {
   "codemirror_mode": {
    "name": "ipython",
    "version": 3
   },
   "file_extension": ".py",
   "mimetype": "text/x-python",
   "name": "python",
   "nbconvert_exporter": "python",
   "pygments_lexer": "ipython3",
   "version": "3.11.5"
  },
  "orig_nbformat": 4
 },
 "nbformat": 4,
 "nbformat_minor": 2
}
