{
 "cells": [
  {
   "cell_type": "code",
   "execution_count": 8,
   "metadata": {},
   "outputs": [
    {
     "name": "stdout",
     "output_type": "stream",
     "text": [
      "2\n",
      "4\n"
     ]
    }
   ],
   "source": [
    "from module41.car import Car\n",
    "\n",
    "# membuat objek dari class Car\n",
    "car_1 = Car('Toyota', 'Fortuner', 2023, 'black')\n",
    "car_2 = Car('Ferrari', 'Spider998', 2022, 'red')\n",
    "\n",
    "car_1.wheels=2\n",
    "\n",
    "print(car_1.wheels)\n",
    "print(car_2.wheels)\n"
   ]
  },
  {
   "cell_type": "code",
   "execution_count": 9,
   "metadata": {},
   "outputs": [
    {
     "data": {
      "text/plain": [
       "4"
      ]
     },
     "execution_count": 9,
     "metadata": {},
     "output_type": "execute_result"
    }
   ],
   "source": [
    "Car.wheels"
   ]
  },
  {
   "cell_type": "code",
   "execution_count": 10,
   "metadata": {},
   "outputs": [
    {
     "name": "stdout",
     "output_type": "stream",
     "text": [
      "6\n",
      "6\n"
     ]
    }
   ],
   "source": [
    "# membuat objek dari class Car\n",
    "car_1 = Car('Toyota', 'Fortuner', 2023, 'black')\n",
    "car_2 = Car('Ferrari', 'Spider998', 2022, 'red')\n",
    "\n",
    "Car.wheels=6\n",
    "\n",
    "print(car_1.wheels)\n",
    "print(car_2.wheels)"
   ]
  }
 ],
 "metadata": {
  "kernelspec": {
   "display_name": "Python 3",
   "language": "python",
   "name": "python3"
  },
  "language_info": {
   "codemirror_mode": {
    "name": "ipython",
    "version": 3
   },
   "file_extension": ".py",
   "mimetype": "text/x-python",
   "name": "python",
   "nbconvert_exporter": "python",
   "pygments_lexer": "ipython3",
   "version": "3.9.13"
  },
  "orig_nbformat": 4
 },
 "nbformat": 4,
 "nbformat_minor": 2
}
