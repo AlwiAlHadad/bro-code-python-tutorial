{
 "cells": [
  {
   "cell_type": "code",
   "execution_count": 13,
   "metadata": {},
   "outputs": [
    {
     "name": "stdout",
     "output_type": "stream",
     "text": [
      "You start the engine\n",
      "You drive the car\n"
     ]
    },
    {
     "data": {
      "text/plain": [
       "<__main__.Car at 0x1b1bd0b2100>"
      ]
     },
     "execution_count": 13,
     "metadata": {},
     "output_type": "execute_result"
    }
   ],
   "source": [
    "# method chaining = manggil multiple metode sequentially\n",
    "\n",
    "\n",
    "class Car:\n",
    "\n",
    "    def turn_on(self):\n",
    "        print('You start the engine')\n",
    "        return self\n",
    "\n",
    "    def drive(self):\n",
    "        print('You drive the car')\n",
    "        return self\n",
    "\n",
    "    def brake(self):\n",
    "        print('You step on the brakes')\n",
    "        return self\n",
    "    \n",
    "    def turn_off(self):\n",
    "        print('You turn off the engine')\n",
    "        return self\n",
    "\n",
    "car = Car()\n",
    "\n",
    "car.turn_on()\n",
    "car.drive()\n"
   ]
  },
  {
   "cell_type": "code",
   "execution_count": 14,
   "metadata": {},
   "outputs": [
    {
     "name": "stdout",
     "output_type": "stream",
     "text": [
      "You start the engine\n",
      "You drive the car\n"
     ]
    },
    {
     "data": {
      "text/plain": [
       "<__main__.Car at 0x1b1bd0b2100>"
      ]
     },
     "execution_count": 14,
     "metadata": {},
     "output_type": "execute_result"
    }
   ],
   "source": [
    "car.turn_on().drive()"
   ]
  },
  {
   "cell_type": "code",
   "execution_count": 15,
   "metadata": {},
   "outputs": [
    {
     "name": "stdout",
     "output_type": "stream",
     "text": [
      "You step on the brakes\n",
      "You turn off the engine\n"
     ]
    },
    {
     "data": {
      "text/plain": [
       "<__main__.Car at 0x1b1bd0b2100>"
      ]
     },
     "execution_count": 15,
     "metadata": {},
     "output_type": "execute_result"
    }
   ],
   "source": [
    "car.brake().turn_off()"
   ]
  },
  {
   "cell_type": "code",
   "execution_count": 17,
   "metadata": {},
   "outputs": [
    {
     "name": "stdout",
     "output_type": "stream",
     "text": [
      "You start the engine\n",
      "You drive the car\n",
      "You step on the brakes\n",
      "You turn off the engine\n"
     ]
    },
    {
     "data": {
      "text/plain": [
       "<__main__.Car at 0x1b1bd0b2100>"
      ]
     },
     "execution_count": 17,
     "metadata": {},
     "output_type": "execute_result"
    }
   ],
   "source": [
    "# \\ = enter ke bawah\n",
    "\n",
    "car.turn_on()\\\n",
    "    .drive()\\\n",
    "    .brake()\\\n",
    "    .turn_off()"
   ]
  }
 ],
 "metadata": {
  "kernelspec": {
   "display_name": "Python 3",
   "language": "python",
   "name": "python3"
  },
  "language_info": {
   "codemirror_mode": {
    "name": "ipython",
    "version": 3
   },
   "file_extension": ".py",
   "mimetype": "text/x-python",
   "name": "python",
   "nbconvert_exporter": "python",
   "pygments_lexer": "ipython3",
   "version": "3.9.13"
  },
  "orig_nbformat": 4
 },
 "nbformat": 4,
 "nbformat_minor": 2
}
