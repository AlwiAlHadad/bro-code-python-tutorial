{
 "cells": [
  {
   "cell_type": "code",
   "execution_count": 16,
   "metadata": {},
   "outputs": [
    {
     "name": "stdout",
     "output_type": "stream",
     "text": [
      "You drive the car\n",
      "You ride the motorcycle\n"
     ]
    }
   ],
   "source": [
    "#abstract class = a class which contains one or more abstract methods.\n",
    "#abstract method = a method that has a declaration but does not have an implementation.\n",
    "\n",
    "# prevents a user from creating an object of that class\n",
    "# + compels a user to override abstract methods in a child class\n",
    "\n",
    "\n",
    "\n",
    "class Vehicle():\n",
    "\n",
    "    def go(self):\n",
    "        pass\n",
    "\n",
    "class Car(Vehicle):\n",
    "\n",
    "    def go(self):\n",
    "        print(\"You drive the car\")\n",
    "\n",
    "\n",
    "class Motorcycle(Vehicle):\n",
    "\n",
    "    def go(self):\n",
    "        print(\"You ride the motorcycle\")\n",
    "\n",
    "\n",
    "\n",
    "vehicle = Vehicle()\n",
    "car = Car()\n",
    "motorcycle = Motorcycle()\n",
    "\n",
    "\n",
    "vehicle.go()\n",
    "car.go()\n",
    "motorcycle.go()\n",
    "\n"
   ]
  },
  {
   "cell_type": "code",
   "execution_count": 21,
   "metadata": {},
   "outputs": [
    {
     "name": "stdout",
     "output_type": "stream",
     "text": [
      "You drive the car\n",
      "You ride the motorcycle\n",
      "This car is stopped\n",
      "This motorcycle is stopped\n"
     ]
    }
   ],
   "source": [
    "# jadi abstract class gak bisa di gunakan oleh user dan tidak bisa di panggil object di dalm class nya\n",
    "# misal ada metode GO di parent class nay maka jika ingin jadi child class maka wajib override method tersebut\n",
    "\n",
    "from abc import ABC, abstractmethod #abstract Base Class\n",
    "\n",
    "\n",
    "class Vehicle(ABC):\n",
    "\n",
    "    @abstractmethod\n",
    "    def go(self):\n",
    "        pass\n",
    "\n",
    "    @abstractmethod\n",
    "    def stop(self):\n",
    "        pass\n",
    "\n",
    "class Car(Vehicle):\n",
    "\n",
    "    def go(self):\n",
    "        print(\"You drive the car\")\n",
    "\n",
    "    def stop(self):\n",
    "        print(\"This car is stopped\")\n",
    "\n",
    "class Motorcycle(Vehicle):\n",
    "\n",
    "    def go(self):\n",
    "        print(\"You ride the motorcycle\")\n",
    "\n",
    "    def stop(self):\n",
    "        print(\"This motorcycle is stopped\")\n",
    "\n",
    "\n",
    "#vehicle = Vehicle()\n",
    "car = Car()\n",
    "motorcycle = Motorcycle()\n",
    "\n",
    "#vehicle.go()\n",
    "car.go()\n",
    "motorcycle.go()\n",
    "\n",
    "#vehicle.stop()\n",
    "car.stop()\n",
    "motorcycle.stop()\n"
   ]
  }
 ],
 "metadata": {
  "kernelspec": {
   "display_name": "Python 3",
   "language": "python",
   "name": "python3"
  },
  "language_info": {
   "codemirror_mode": {
    "name": "ipython",
    "version": 3
   },
   "file_extension": ".py",
   "mimetype": "text/x-python",
   "name": "python",
   "nbconvert_exporter": "python",
   "pygments_lexer": "ipython3",
   "version": "3.9.13"
  },
  "orig_nbformat": 4
 },
 "nbformat": 4,
 "nbformat_minor": 2
}
