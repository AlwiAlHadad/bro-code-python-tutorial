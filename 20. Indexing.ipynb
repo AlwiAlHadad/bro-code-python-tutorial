{
 "cells": [
  {
   "cell_type": "code",
   "execution_count": 21,
   "metadata": {},
   "outputs": [
    {
     "name": "stdout",
     "output_type": "stream",
     "text": [
      "Bro code\n",
      "BRO\n",
      "Code\n",
      "d\n"
     ]
    }
   ],
   "source": [
    "# index operator [] = memberikan akses element yang ada urutan (str, list, tuples)\n",
    "\n",
    "name = 'bro code'\n",
    "\n",
    "# spasi gak bisa dinyatakan lower atau upper\n",
    "\n",
    "if (name[0]).islower():\n",
    "    name = name.capitalize()\n",
    "print(name)\n",
    "\n",
    "first_name = name[:3].upper()\n",
    "print(first_name)\n",
    "\n",
    "last_name = name[4:].capitalize()\n",
    "print(last_name)\n",
    "\n",
    "last_character = name[-2] # itung dari belakang\n",
    "print(last_character)"
   ]
  }
 ],
 "metadata": {
  "kernelspec": {
   "display_name": "Python 3",
   "language": "python",
   "name": "python3"
  },
  "language_info": {
   "codemirror_mode": {
    "name": "ipython",
    "version": 3
   },
   "file_extension": ".py",
   "mimetype": "text/x-python",
   "name": "python",
   "nbconvert_exporter": "python",
   "pygments_lexer": "ipython3",
   "version": "3.11.5"
  },
  "orig_nbformat": 4
 },
 "nbformat": 4,
 "nbformat_minor": 2
}
