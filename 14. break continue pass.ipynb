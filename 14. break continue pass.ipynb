{
 "cells": [
  {
   "cell_type": "code",
   "execution_count": 2,
   "metadata": {},
   "outputs": [
    {
     "name": "stdout",
     "output_type": "stream",
     "text": [
      "Hello alwi\n"
     ]
    }
   ],
   "source": [
    "# break = berhentikan loop nya\n",
    "# continue = skip loop dan langsung ke loop selanjutnya (berarti yang dibawah continue tidak di jalankan)\n",
    "# pass = langsung lewat saja\n",
    "\n",
    "\n",
    "while True:\n",
    "    name = input('Enter your name: ')\n",
    "    if name != \"\":\n",
    "        print(f'Hello {name}')\n",
    "        break"
   ]
  },
  {
   "cell_type": "code",
   "execution_count": 4,
   "metadata": {},
   "outputs": [
    {
     "name": "stdout",
     "output_type": "stream",
     "text": [
      "41452552524"
     ]
    }
   ],
   "source": [
    "phone_number = '414-5255-2524'\n",
    "\n",
    "for i in phone_number:\n",
    "    if i == '-':\n",
    "        continue\n",
    "    print(i, end=\"\")"
   ]
  },
  {
   "cell_type": "code",
   "execution_count": 7,
   "metadata": {},
   "outputs": [
    {
     "name": "stdout",
     "output_type": "stream",
     "text": [
      "12345678910111214151617181920"
     ]
    }
   ],
   "source": [
    "for i in range (20):\n",
    "    if i == 12:\n",
    "        pass\n",
    "    else:\n",
    "        print(i+1, end=\"\")"
   ]
  },
  {
   "cell_type": "code",
   "execution_count": 8,
   "metadata": {},
   "outputs": [
    {
     "name": "stdout",
     "output_type": "stream",
     "text": [
      "12345678910111214151617181920"
     ]
    }
   ],
   "source": [
    "for i in range (20):\n",
    "    if i == 12:\n",
    "        continue\n",
    "    print(i+1, end=\"\")"
   ]
  }
 ],
 "metadata": {
  "kernelspec": {
   "display_name": "Python 3",
   "language": "python",
   "name": "python3"
  },
  "language_info": {
   "codemirror_mode": {
    "name": "ipython",
    "version": 3
   },
   "file_extension": ".py",
   "mimetype": "text/x-python",
   "name": "python",
   "nbconvert_exporter": "python",
   "pygments_lexer": "ipython3",
   "version": "3.11.5"
  },
  "orig_nbformat": 4
 },
 "nbformat": 4,
 "nbformat_minor": 2
}
