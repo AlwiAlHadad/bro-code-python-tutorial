{
 "cells": [
  {
   "cell_type": "code",
   "execution_count": 34,
   "metadata": {},
   "outputs": [
    {
     "name": "stdout",
     "output_type": "stream",
     "text": [
      "computer: kertas\n",
      "player: gunting\n",
      "You win!\n",
      "computer: gunting\n",
      "player: gunting\n",
      "result: Tie\n",
      "computer: gunting\n",
      "player: batu\n",
      "You win!\n",
      "Bye!\n"
     ]
    }
   ],
   "source": [
    "import random\n",
    "\n",
    "while True:\n",
    "    choices = ['batu', 'kertas', 'gunting']\n",
    "\n",
    "    computer = random.choice(choices)\n",
    "    player = None\n",
    "\n",
    "    while player not in choices:\n",
    "        player = input('gunting, batu, kertas?: ')\n",
    "        player = player.lower()\n",
    "\n",
    "\n",
    "    print(f'computer: {computer}')\n",
    "    print(f'player: {player}')\n",
    "\n",
    "\n",
    "    if player == computer:\n",
    "        print('Tie')\n",
    "    elif player == 'batu' and computer == 'kertas':\n",
    "        print('You lose!')\n",
    "    elif player == 'batu' and computer == 'gunting':\n",
    "        print('You win!')\n",
    "    elif player == 'kertas' and computer == 'batu':\n",
    "        print('You win!')\n",
    "    elif player == 'kertas' and computer == 'gunting':\n",
    "        print('You lose!')\n",
    "    elif player == 'gunting' and computer == 'batu':\n",
    "        print('You lose!')\n",
    "    elif player == 'gunting' and computer == 'kertas':\n",
    "        print('You win!')\n",
    "    else:\n",
    "        print('There is something wrong')\n",
    "\n",
    "    play_again = input('play again? (Y/N)').lower()\n",
    "\n",
    "    if play_again != 'y':\n",
    "        break\n",
    "\n",
    "print('Bye!')\n",
    "\n"
   ]
  }
 ],
 "metadata": {
  "kernelspec": {
   "display_name": "Python 3",
   "language": "python",
   "name": "python3"
  },
  "language_info": {
   "codemirror_mode": {
    "name": "ipython",
    "version": 3
   },
   "file_extension": ".py",
   "mimetype": "text/x-python",
   "name": "python",
   "nbconvert_exporter": "python",
   "pygments_lexer": "ipython3",
   "version": "3.9.13"
  },
  "orig_nbformat": 4
 },
 "nbformat": 4,
 "nbformat_minor": 2
}
