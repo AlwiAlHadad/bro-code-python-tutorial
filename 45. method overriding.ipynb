{
 "cells": [
  {
   "cell_type": "code",
   "execution_count": 2,
   "metadata": {},
   "outputs": [],
   "source": [
    "class Animal:\n",
    "\n",
    "    def eat(self):\n",
    "        print('This animal eating')\n",
    "\n",
    "\n",
    "class Rabbit(Animal):\n",
    "    \n",
    "    def eat(self):\n",
    "        print('This rabbit is eating a carrot')\n",
    "\n"
   ]
  },
  {
   "cell_type": "code",
   "execution_count": 3,
   "metadata": {},
   "outputs": [
    {
     "name": "stdout",
     "output_type": "stream",
     "text": [
      "This rabbit is eating a carrot\n"
     ]
    }
   ],
   "source": [
    "rabbit = Rabbit()\n",
    "\n",
    "rabbit.eat()\n",
    "\n",
    "# yang di gunakan selalu yang lebih dekat sebelum yang di turunkan dari parent class"
   ]
  }
 ],
 "metadata": {
  "kernelspec": {
   "display_name": "Python 3",
   "language": "python",
   "name": "python3"
  },
  "language_info": {
   "codemirror_mode": {
    "name": "ipython",
    "version": 3
   },
   "file_extension": ".py",
   "mimetype": "text/x-python",
   "name": "python",
   "nbconvert_exporter": "python",
   "pygments_lexer": "ipython3",
   "version": "3.9.13"
  },
  "orig_nbformat": 4
 },
 "nbformat": 4,
 "nbformat_minor": 2
}
