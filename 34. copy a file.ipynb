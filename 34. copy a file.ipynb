{
 "cells": [
  {
   "cell_type": "code",
   "execution_count": 6,
   "metadata": {},
   "outputs": [
    {
     "data": {
      "text/plain": [
       "'test file\\\\paste\\\\test_paste.txt'"
      ]
     },
     "execution_count": 6,
     "metadata": {},
     "output_type": "execute_result"
    }
   ],
   "source": [
    "# copyfile() =  copies contents of a file\n",
    "# copy() =      copyfile() + permission mode + destination can be a directory\n",
    "# copy2() =     copy() + copies metadata (file’s creation and modification times)\n",
    "\n",
    "import shutil\n",
    "\n",
    "src = 'test file\\\\copy\\\\test.txt'\n",
    "dst = 'test file\\\\paste\\\\test_paste.txt'\n",
    "\n",
    "shutil.copy2(src, dst) # source, destination"
   ]
  }
 ],
 "metadata": {
  "kernelspec": {
   "display_name": "Python 3",
   "language": "python",
   "name": "python3"
  },
  "language_info": {
   "codemirror_mode": {
    "name": "ipython",
    "version": 3
   },
   "file_extension": ".py",
   "mimetype": "text/x-python",
   "name": "python",
   "nbconvert_exporter": "python",
   "pygments_lexer": "ipython3",
   "version": "3.9.13"
  },
  "orig_nbformat": 4
 },
 "nbformat": 4,
 "nbformat_minor": 2
}
