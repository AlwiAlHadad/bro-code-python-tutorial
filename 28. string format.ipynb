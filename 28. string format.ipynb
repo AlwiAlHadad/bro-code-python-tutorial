{
 "cells": [
  {
   "cell_type": "code",
   "execution_count": 1,
   "metadata": {},
   "outputs": [
    {
     "name": "stdout",
     "output_type": "stream",
     "text": [
      "The cow jumped over the moon\n"
     ]
    }
   ],
   "source": [
    "# str.format() = metode opsional namun dapaat membuat kita mendapatkan kontrol lebih saat menampilkan hasilnya\n",
    "\n",
    "animal = 'cow'\n",
    "item = 'moon'\n",
    "\n",
    "print(f'The {animal} jumped over the {item}')\n"
   ]
  },
  {
   "cell_type": "code",
   "execution_count": 7,
   "metadata": {},
   "outputs": [
    {
     "name": "stdout",
     "output_type": "stream",
     "text": [
      "The cow jumped over the moon\n",
      "The moon jumped over the cow\n",
      "The dog jumped over the sun\n"
     ]
    }
   ],
   "source": [
    "animal = 'cow'\n",
    "item = 'moon'\n",
    "\n",
    "#print(f'The {animal} jumped over the {item}')\n",
    "print('The {} jumped over the {}'.format(animal,item))\n",
    "\n",
    "# index dan keyword yang sama bisa digunakan lebih dari 1 kali\n",
    "print('The {1} jumped over the {0}'.format(animal,item)) # positional argument\n",
    "print('The {animal} jumped over the {item}'.format(animal='dog',item='sun')) # keyword argument"
   ]
  },
  {
   "cell_type": "code",
   "execution_count": 8,
   "metadata": {},
   "outputs": [
    {
     "data": {
      "text/plain": [
       "'The cow jumped over the moon'"
      ]
     },
     "execution_count": 8,
     "metadata": {},
     "output_type": "execute_result"
    }
   ],
   "source": [
    "text = 'The {} jumped over the {}'\n",
    "text.format(animal,item)"
   ]
  },
  {
   "cell_type": "code",
   "execution_count": 14,
   "metadata": {},
   "outputs": [
    {
     "name": "stdout",
     "output_type": "stream",
     "text": [
      "Hello, my name is ross      \n",
      "Hello, my name is ross      \n",
      "Hello, my name is       ross\n",
      "Hello, my name is    ross   .\n"
     ]
    }
   ],
   "source": [
    "name = 'ross'\n",
    "\n",
    "'Hello, my name is {}'.format(name)\n",
    "print('Hello, my name is {:10}'.format(name)) # nambah padding spasi. 10 spasi di kanan\n",
    "print('Hello, my name is {:<10}'.format(name)) # left align\n",
    "print('Hello, my name is {:>10}'.format(name)) # right align\n",
    "print('Hello, my name is {:^10}.'.format(name)) # center align"
   ]
  },
  {
   "cell_type": "code",
   "execution_count": 23,
   "metadata": {},
   "outputs": [
    {
     "name": "stdout",
     "output_type": "stream",
     "text": [
      "The number pi is 3.14\n",
      "The number is 1,000\n",
      "The number is 1111101000\n",
      "The number is 1750\n",
      "The number is 3e8\n",
      "The number is 1.000000e+03\n"
     ]
    }
   ],
   "source": [
    "number = 3.14159\n",
    "seribu = 1000\n",
    "\n",
    "print('The number pi is {:.2f}'.format(number)) # 2 digit pertama setelah desimal (f untuk floating number) danm akan di round\n",
    "print('The number is {:,}'.format(seribu)) # buat jadi , setiap 1000\n",
    "print('The number is {:b}'.format(seribu)) # jadi binary\n",
    "print('The number is {:o}'.format(seribu)) # jadi octal number\n",
    "print('The number is {:x}'.format(seribu)) # jadi hexadecimal number\n",
    "print('The number is {:e}'.format(seribu)) # scientific notation (bisa capital e)"
   ]
  }
 ],
 "metadata": {
  "kernelspec": {
   "display_name": "Python 3",
   "language": "python",
   "name": "python3"
  },
  "language_info": {
   "codemirror_mode": {
    "name": "ipython",
    "version": 3
   },
   "file_extension": ".py",
   "mimetype": "text/x-python",
   "name": "python",
   "nbconvert_exporter": "python",
   "pygments_lexer": "ipython3",
   "version": "3.9.13"
  },
  "orig_nbformat": 4
 },
 "nbformat": 4,
 "nbformat_minor": 2
}
