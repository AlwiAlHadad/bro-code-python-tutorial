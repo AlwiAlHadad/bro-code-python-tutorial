{
 "cells": [
  {
   "cell_type": "code",
   "execution_count": 13,
   "metadata": {},
   "outputs": [
    {
     "name": "stdout",
     "output_type": "stream",
     "text": [
      "9\n",
      "27\n"
     ]
    }
   ],
   "source": [
    "# super() = fungsi yg memberikan akses ke metode parent class nya dan memberikan temporary return\n",
    "\n",
    "\n",
    "\n",
    "class Rectangle:\n",
    "    pass\n",
    "\n",
    "class Square(Rectangle):\n",
    "\n",
    "    def __init__(self, length, width):\n",
    "        self.length = length\n",
    "        self.width = width\n",
    "    \n",
    "    def area(self):\n",
    "        return self.length*self.width\n",
    "\n",
    "class Cube(Rectangle):\n",
    "\n",
    "    def __init__(self, length, width, height):\n",
    "        self.length = length\n",
    "        self.width = width\n",
    "        self.height = height\n",
    "\n",
    "    def volume(self):\n",
    "        return self.length*self.width*self.height\n",
    "\n",
    "\n",
    "square = Square(3, 3)\n",
    "cube = Cube(3, 3, 3)\n",
    "\n",
    "print(square.area())\n",
    "print(cube.volume())"
   ]
  },
  {
   "cell_type": "code",
   "execution_count": 15,
   "metadata": {},
   "outputs": [
    {
     "name": "stdout",
     "output_type": "stream",
     "text": [
      "9\n",
      "36\n"
     ]
    }
   ],
   "source": [
    "# disini parent class Rectangle mengambil 2 persamaan pada 2 child class nya kemudian child class memanggil fungsi dari parent class nya menggunakan super()\n",
    "\n",
    "class Rectangle:\n",
    "\n",
    "    def __init__(self, length, width):\n",
    "        self.length = length\n",
    "        self.width = width\n",
    "\n",
    "class Square(Rectangle):\n",
    "\n",
    "    def __init__(self, length, width):\n",
    "        super().__init__(length,width)\n",
    "\n",
    "    def area(self):\n",
    "        return self.length*self.width\n",
    "\n",
    "class Cube(Rectangle):\n",
    "\n",
    "    def __init__(self, length, width, height):\n",
    "        super().__init__(length,width)\n",
    "        self.height = height\n",
    "\n",
    "    def volume(self):\n",
    "        return self.length*self.width*self.height\n",
    "    \n",
    "\n",
    "square = Square(3, 3)\n",
    "cube = Cube(3, 4, 3)\n",
    "\n",
    "print(square.area())\n",
    "print(cube.volume())"
   ]
  }
 ],
 "metadata": {
  "kernelspec": {
   "display_name": "Python 3",
   "language": "python",
   "name": "python3"
  },
  "language_info": {
   "codemirror_mode": {
    "name": "ipython",
    "version": 3
   },
   "file_extension": ".py",
   "mimetype": "text/x-python",
   "name": "python",
   "nbconvert_exporter": "python",
   "pygments_lexer": "ipython3",
   "version": "3.9.13"
  },
  "orig_nbformat": 4
 },
 "nbformat": 4,
 "nbformat_minor": 2
}
