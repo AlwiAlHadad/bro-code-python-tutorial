{
 "cells": [
  {
   "cell_type": "code",
   "execution_count": 11,
   "metadata": {},
   "outputs": [
    {
     "name": "stdout",
     "output_type": "stream",
     "text": [
      "test_mo.txt was moved\n"
     ]
    }
   ],
   "source": [
    "import os\n",
    "\n",
    "src = 'test file\\\\copy\\\\test_mo.txt'\n",
    "dst = 'test file\\\\move\\\\test_move.txt'\n",
    "\n",
    "try:\n",
    "    if os.path.exists(dst):\n",
    "        print('There is already a file there') # ada pengecekan ini agar file tidak ketiban (overwrite) dan jadi hilang data sebelumnya\n",
    "    else:\n",
    "        os.replace(src,dst)\n",
    "        print(src[-src.find('\\\\')-2:] +\" was moved\")\n",
    "except FileNotFoundError:\n",
    "    print(f'{src} was no found!')\n",
    "\n"
   ]
  }
 ],
 "metadata": {
  "kernelspec": {
   "display_name": "Python 3",
   "language": "python",
   "name": "python3"
  },
  "language_info": {
   "codemirror_mode": {
    "name": "ipython",
    "version": 3
   },
   "file_extension": ".py",
   "mimetype": "text/x-python",
   "name": "python",
   "nbconvert_exporter": "python",
   "pygments_lexer": "ipython3",
   "version": "3.9.13"
  },
  "orig_nbformat": 4
 },
 "nbformat": 4,
 "nbformat_minor": 2
}
