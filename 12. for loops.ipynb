{
 "cells": [
  {
   "cell_type": "code",
   "execution_count": 15,
   "metadata": {},
   "outputs": [
    {
     "name": "stdout",
     "output_type": "stream",
     "text": [
      "50: Event Number\n",
      "55: Odd\n",
      "60: Event Number\n",
      "65: Odd\n",
      "70: Event Number\n",
      "75: Odd\n",
      "80: Event Number\n",
      "85: Odd\n",
      "90: Event Number\n",
      "95: Odd\n",
      "100: Event Number\n"
     ]
    }
   ],
   "source": [
    "\n",
    "for i in range(50, 101, 5):\n",
    "    if i%2 == 0:\n",
    "        print(f'{i}: Event Number')\n",
    "    else:\n",
    "        print(f'{i}: Odd')"
   ]
  },
  {
   "cell_type": "code",
   "execution_count": 16,
   "metadata": {},
   "outputs": [
    {
     "name": "stdout",
     "output_type": "stream",
     "text": [
      "a\n",
      "l\n",
      "w\n",
      "i\n",
      " \n",
      "a\n",
      "l\n",
      " \n",
      "h\n",
      "a\n",
      "d\n",
      "a\n",
      "d\n"
     ]
    }
   ],
   "source": [
    "for i in 'alwi al hadad':\n",
    "    print(i)"
   ]
  },
  {
   "cell_type": "code",
   "execution_count": 19,
   "metadata": {},
   "outputs": [
    {
     "name": "stdout",
     "output_type": "stream",
     "text": [
      "10\n",
      "9\n",
      "8\n",
      "7\n",
      "6\n",
      "5\n",
      "4\n",
      "3\n",
      "2\n",
      "1\n",
      "Happy New Year!\n"
     ]
    }
   ],
   "source": [
    "# buat loop countdown waktu\n",
    "\n",
    "import time\n",
    "\n",
    "for i in range(10, 0, -1):\n",
    "    print(i)\n",
    "    time.sleep(1)\n",
    "\n",
    "print('Happy New Year!')"
   ]
  }
 ],
 "metadata": {
  "kernelspec": {
   "display_name": "Python 3",
   "language": "python",
   "name": "python3"
  },
  "language_info": {
   "codemirror_mode": {
    "name": "ipython",
    "version": 3
   },
   "file_extension": ".py",
   "mimetype": "text/x-python",
   "name": "python",
   "nbconvert_exporter": "python",
   "pygments_lexer": "ipython3",
   "version": "3.11.5"
  },
  "orig_nbformat": 4
 },
 "nbformat": 4,
 "nbformat_minor": 2
}
