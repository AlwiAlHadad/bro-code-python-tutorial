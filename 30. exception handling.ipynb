{
 "cells": [
  {
   "cell_type": "code",
   "execution_count": 17,
   "metadata": {},
   "outputs": [
    {
     "name": "stdout",
     "output_type": "stream",
     "text": [
      "2.5\n",
      "this will always execute\n"
     ]
    }
   ],
   "source": [
    "# excception = jika ada error terdeteksi maka cara lain untuk mengeksekusinya atau hasil di berikan\n",
    "\n",
    "# bukan good practice hanya memiliki 1 exception untuk semua error\n",
    "try:\n",
    "    numerator = int(input('Enter numerator: '))\n",
    "    denominator = int(input('Enter denominator: '))\n",
    "    result = numerator/denominator\n",
    "except ZeroDivisionError as e:\n",
    "    print(e)\n",
    "    print('you can not divide by zero boy')\n",
    "except ValueError as e:\n",
    "    print(e)\n",
    "    print('Enter only nnumber plz')\n",
    "except Exception as e:\n",
    "    print(e)\n",
    "    print('somerthing went wrong :(')\n",
    "else:                                            # jika tidak ada exception atau error maka else di lakukan\n",
    "    print(result)\n",
    "finally:                                         # terjadi error atau tidak tetep akan di lakukan\n",
    "    print('this will always execute')"
   ]
  }
 ],
 "metadata": {
  "kernelspec": {
   "display_name": "Python 3",
   "language": "python",
   "name": "python3"
  },
  "language_info": {
   "codemirror_mode": {
    "name": "ipython",
    "version": 3
   },
   "file_extension": ".py",
   "mimetype": "text/x-python",
   "name": "python",
   "nbconvert_exporter": "python",
   "pygments_lexer": "ipython3",
   "version": "3.9.13"
  },
  "orig_nbformat": 4
 },
 "nbformat": 4,
 "nbformat_minor": 2
}
