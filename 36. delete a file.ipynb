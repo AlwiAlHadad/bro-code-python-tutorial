{
 "cells": [
  {
   "cell_type": "code",
   "execution_count": 6,
   "metadata": {},
   "outputs": [
    {
     "name": "stdout",
     "output_type": "stream",
     "text": [
      "You do not have permission to delete that\n"
     ]
    }
   ],
   "source": [
    "import os\n",
    "import shutil\n",
    "\n",
    "path = 'test file\\\\delete\\\\empty folder'\n",
    "\n",
    "try:\n",
    "    os.remove(path)\n",
    "except FileNotFoundError:\n",
    "    print('That file was not found')\n",
    "except PermissionError:\n",
    "    print('You do not have permission to delete that')"
   ]
  },
  {
   "cell_type": "code",
   "execution_count": 13,
   "metadata": {},
   "outputs": [
    {
     "name": "stdout",
     "output_type": "stream",
     "text": [
      "That folder is not empty\n"
     ]
    }
   ],
   "source": [
    "path = 'test file\\\\delete\\\\folder'\n",
    "\n",
    "try:\n",
    "    #os.remove(path)\n",
    "    os.rmdir(path) # untuk hapus folder\n",
    "except FileNotFoundError:\n",
    "    print('That file was not found')\n",
    "except PermissionError:\n",
    "    print('You do not have permission to delete that')\n",
    "except OSError:\n",
    "    print('That folder is not empty')\n",
    "else:\n",
    "    print(f'{path} was deleted')"
   ]
  },
  {
   "cell_type": "code",
   "execution_count": 14,
   "metadata": {},
   "outputs": [
    {
     "name": "stdout",
     "output_type": "stream",
     "text": [
      "test file\\delete\\folder was deleted\n"
     ]
    }
   ],
   "source": [
    "path = 'test file\\\\delete\\\\folder'\n",
    "\n",
    "try:\n",
    "    #os.remove(path)\n",
    "    # os.rmdir(path)\n",
    "    shutil.rmtree(path) # untuk hapus folder denga isi2nya (HATI2!)\n",
    "except FileNotFoundError:\n",
    "    print('That file was not found')\n",
    "except PermissionError:\n",
    "    print('You do not have permission to delete that')\n",
    "except OSError:\n",
    "    print('That folder is not empty')\n",
    "else:\n",
    "    print(f'{path} was deleted')"
   ]
  }
 ],
 "metadata": {
  "kernelspec": {
   "display_name": "Python 3",
   "language": "python",
   "name": "python3"
  },
  "language_info": {
   "codemirror_mode": {
    "name": "ipython",
    "version": 3
   },
   "file_extension": ".py",
   "mimetype": "text/x-python",
   "name": "python",
   "nbconvert_exporter": "python",
   "pygments_lexer": "ipython3",
   "version": "3.9.13"
  },
  "orig_nbformat": 4
 },
 "nbformat": 4,
 "nbformat_minor": 2
}
