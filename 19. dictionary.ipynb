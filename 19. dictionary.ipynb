{
 "cells": [
  {
   "cell_type": "code",
   "execution_count": 19,
   "metadata": {},
   "outputs": [
    {
     "name": "stdout",
     "output_type": "stream",
     "text": [
      "USA New York\n",
      "India New Delhi\n",
      "Indonesia DKI Jakarta\n",
      "germany Berlin\n"
     ]
    }
   ],
   "source": [
    "# dict = dict cepat karena menggunakan hashing, jadi lebih cepet untuk akses value nya. dict uniqe key:value pairs dan tidak ada order nya (tidak berurutan)\n",
    "\n",
    "capitals = {'USA':'Washington DC',\n",
    "            'India':'New Delhi',\n",
    "            'China':'Beijing',\n",
    "            'Indonesia':'DKI Jakarta'}\n",
    "\n",
    "\n",
    "# print(capitals['Indonesia'])             # print value dari key (Indonesia)\n",
    "# print(capitals.get('germany'))           # cek apakah 'germany' salah satu keys atau tidak\n",
    "# print(capitals.keys())                   # cek unique keys ada apa aja\n",
    "# print(capitals.values())                 # cek values ada apa aja\n",
    "# print(capitals.items())                  # cek keys dan values dari dict tersebut\n",
    "\n",
    "\n",
    "capitals.update({'germany':'Berlin'})\n",
    "capitals.update({'USA':'New York'}) # kalau sudah ada key yang sama maka values yang lama akan ke ganti\n",
    "capitals.pop('China') # hapus\n",
    "# capitals.clear() # hapus semua\n",
    "\n",
    "\n",
    "for key,value in capitals.items():\n",
    "    print(key,value)\n",
    "\n"
   ]
  }
 ],
 "metadata": {
  "kernelspec": {
   "display_name": "Python 3",
   "language": "python",
   "name": "python3"
  },
  "language_info": {
   "codemirror_mode": {
    "name": "ipython",
    "version": 3
   },
   "file_extension": ".py",
   "mimetype": "text/x-python",
   "name": "python",
   "nbconvert_exporter": "python",
   "pygments_lexer": "ipython3",
   "version": "3.11.5"
  },
  "orig_nbformat": 4
 },
 "nbformat": 4,
 "nbformat_minor": 2
}
