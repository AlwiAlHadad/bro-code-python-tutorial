{
 "cells": [
  {
   "cell_type": "code",
   "execution_count": 15,
   "metadata": {},
   "outputs": [
    {
     "name": "stdout",
     "output_type": "stream",
     "text": [
      "{'plate', 'bowl', 'napkin', 'knife', 'spoon', 'cup'}\n",
      "{'knife'}\n",
      "{'napkin', 'knife'}\n",
      "plate\n",
      "bowl\n",
      "knife\n",
      "cup\n"
     ]
    }
   ],
   "source": [
    "# set = koleksi element yang tidak ada urutan dan tidaka ada index nya. tidak ada duplikat value\n",
    "\n",
    "utensils = {'fork', 'spoon', 'knife', 'knife'}\n",
    "dishes = {'bowl', 'plate', 'cup', 'knife'}\n",
    "things = {'spoon', 'ball', 'crayon'}\n",
    "\n",
    "\n",
    "utensils.add('napkin')\n",
    "utensils.remove('fork')\n",
    "# utensils.clear()\n",
    "#dishes.update(utensils) # di tambah di variabel set yang lama\n",
    "dishes_table = utensils.union(dishes) # gabungin\n",
    "print(dishes_table)\n",
    "\n",
    "print(utensils.intersection(dishes)) # utensils yg ada di set dishes\n",
    "\n",
    "print(utensils.difference(things)) # utensils yang gak ada di set things\n",
    "\n",
    "\n",
    "for x in dishes:\n",
    "    print(x)"
   ]
  }
 ],
 "metadata": {
  "kernelspec": {
   "display_name": "Python 3",
   "language": "python",
   "name": "python3"
  },
  "language_info": {
   "codemirror_mode": {
    "name": "ipython",
    "version": 3
   },
   "file_extension": ".py",
   "mimetype": "text/x-python",
   "name": "python",
   "nbconvert_exporter": "python",
   "pygments_lexer": "ipython3",
   "version": "3.11.5"
  },
  "orig_nbformat": 4
 },
 "nbformat": 4,
 "nbformat_minor": 2
}
